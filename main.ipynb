{
 "metadata": {
  "language_info": {
   "codemirror_mode": {
    "name": "ipython",
    "version": 3
   },
   "file_extension": ".py",
   "mimetype": "text/x-python",
   "name": "python",
   "nbconvert_exporter": "python",
   "pygments_lexer": "ipython3",
   "version": "3.8.5"
  },
  "orig_nbformat": 4,
  "kernelspec": {
   "name": "python3",
   "display_name": "Python 3.8.5 64-bit ('base': conda)"
  },
  "interpreter": {
   "hash": "b01327d074322507eb8a0db60c572646556f6079895ca62218d9c62db25fd9c2"
  }
 },
 "nbformat": 4,
 "nbformat_minor": 2,
 "cells": [
  {
   "cell_type": "code",
   "execution_count": 8,
   "metadata": {},
   "outputs": [],
   "source": [
    "import pandas as pd\n",
    "from py2neo import Graph, Node, Relationship\n",
    "from tqdm import tqdm\n",
    "\n",
    "from src.twitter_processing import TwitterProcessing\n",
    "from src.text_processing import TextProcessing\n",
    "from src.twitter2neo import Twitter2Neo\n",
    "\n",
    "twitter_p = TwitterProcessing()\n",
    "t2neo = Twitter2Neo()"
   ]
  },
  {
   "source": [
    "Carregando dados"
   ],
   "cell_type": "markdown",
   "metadata": {}
  },
  {
   "cell_type": "code",
   "execution_count": 9,
   "metadata": {},
   "outputs": [
    {
     "output_type": "execute_result",
     "data": {
      "text/plain": [
       "(100287, 9)"
      ]
     },
     "metadata": {},
     "execution_count": 9
    }
   ],
   "source": [
    "path = 'data/tweets_violencia_infantil.csv'\n",
    "df = pd.read_csv(path)\n",
    "df.shape"
   ]
  },
  {
   "cell_type": "code",
   "execution_count": 10,
   "metadata": {},
   "outputs": [
    {
     "output_type": "stream",
     "name": "stdout",
     "text": [
      "<class 'pandas.core.frame.DataFrame'>\nRangeIndex: 100287 entries, 0 to 100286\nData columns (total 9 columns):\n #   Column         Non-Null Count   Dtype \n---  ------         --------------   ----- \n 0   post_id        100287 non-null  int64 \n 1   post_datetime  100287 non-null  object\n 2   author         100286 non-null  object\n 3   followers      100287 non-null  int64 \n 4   sentiment      100287 non-null  object\n 5   tweet          100287 non-null  object\n 6   tweet_url      100287 non-null  object\n 7   topic          100287 non-null  object\n 8   screen_name    100287 non-null  object\ndtypes: int64(2), object(7)\nmemory usage: 6.9+ MB\n"
     ]
    }
   ],
   "source": [
    "df.info()"
   ]
  },
  {
   "cell_type": "code",
   "execution_count": 11,
   "metadata": {},
   "outputs": [
    {
     "output_type": "execute_result",
     "data": {
      "text/plain": [
       "     post_id        post_datetime  \\\n",
       "0  316990280  2021-03-17 17:19:34   \n",
       "1  317598323  2021-03-22 09:05:27   \n",
       "2  316991927  2021-03-17 17:36:43   \n",
       "3  315287986  2021-03-03 16:53:41   \n",
       "4  315089002  2021-03-02 11:30:27   \n",
       "\n",
       "                                              author  followers sentiment  \\\n",
       "0                                       Mc Tristeza🌙       1454    neutro   \n",
       "1                                              lua.🗡        582    neutro   \n",
       "2                                            vamBIro        330    neutro   \n",
       "3                                            gimoli៹        172    neutro   \n",
       "4  Dra. Deusa em isolamento social, A Menina do L...        500    neutro   \n",
       "\n",
       "                                               tweet  \\\n",
       "0  RT @CrimesReais: Passadas algumas horas, o rec...   \n",
       "1        achei que era pra somar os pontos vei tchau   \n",
       "2  RT @angie_sai: Odiei essa notícia aqui.\\n\"Mora...   \n",
       "3  mano o akutami é um doente do caralho. primeir...   \n",
       "4  @nirgellep @Zan4rkZNK @avdkdvra Pedofilia é an...   \n",
       "\n",
       "                                           tweet_url               topic  \\\n",
       "0  http://twitter.com/naah__moraes/status/1372281...    NÃO IDENTIFICADO   \n",
       "1  http://twitter.com/feysant/statuses/1373969066...  VIOLENCIA INFANTIL   \n",
       "2  http://twitter.com/Aniahconda/status/137228579...              JOVENS   \n",
       "3  http://twitter.com/jjkthange/statuses/13672015...           PEDOFILIA   \n",
       "4  http://twitter.com/FemeaLetrada/statuses/13667...           PEDOFILIA   \n",
       "\n",
       "    screen_name  \n",
       "0  naah__moraes  \n",
       "1       feysant  \n",
       "2    Aniahconda  \n",
       "3     jjkthange  \n",
       "4  FemeaLetrada  "
      ],
      "text/html": "<div>\n<style scoped>\n    .dataframe tbody tr th:only-of-type {\n        vertical-align: middle;\n    }\n\n    .dataframe tbody tr th {\n        vertical-align: top;\n    }\n\n    .dataframe thead th {\n        text-align: right;\n    }\n</style>\n<table border=\"1\" class=\"dataframe\">\n  <thead>\n    <tr style=\"text-align: right;\">\n      <th></th>\n      <th>post_id</th>\n      <th>post_datetime</th>\n      <th>author</th>\n      <th>followers</th>\n      <th>sentiment</th>\n      <th>tweet</th>\n      <th>tweet_url</th>\n      <th>topic</th>\n      <th>screen_name</th>\n    </tr>\n  </thead>\n  <tbody>\n    <tr>\n      <th>0</th>\n      <td>316990280</td>\n      <td>2021-03-17 17:19:34</td>\n      <td>Mc Tristeza🌙</td>\n      <td>1454</td>\n      <td>neutro</td>\n      <td>RT @CrimesReais: Passadas algumas horas, o rec...</td>\n      <td>http://twitter.com/naah__moraes/status/1372281...</td>\n      <td>NÃO IDENTIFICADO</td>\n      <td>naah__moraes</td>\n    </tr>\n    <tr>\n      <th>1</th>\n      <td>317598323</td>\n      <td>2021-03-22 09:05:27</td>\n      <td>lua.🗡</td>\n      <td>582</td>\n      <td>neutro</td>\n      <td>achei que era pra somar os pontos vei tchau</td>\n      <td>http://twitter.com/feysant/statuses/1373969066...</td>\n      <td>VIOLENCIA INFANTIL</td>\n      <td>feysant</td>\n    </tr>\n    <tr>\n      <th>2</th>\n      <td>316991927</td>\n      <td>2021-03-17 17:36:43</td>\n      <td>vamBIro</td>\n      <td>330</td>\n      <td>neutro</td>\n      <td>RT @angie_sai: Odiei essa notícia aqui.\\n\"Mora...</td>\n      <td>http://twitter.com/Aniahconda/status/137228579...</td>\n      <td>JOVENS</td>\n      <td>Aniahconda</td>\n    </tr>\n    <tr>\n      <th>3</th>\n      <td>315287986</td>\n      <td>2021-03-03 16:53:41</td>\n      <td>gimoli៹</td>\n      <td>172</td>\n      <td>neutro</td>\n      <td>mano o akutami é um doente do caralho. primeir...</td>\n      <td>http://twitter.com/jjkthange/statuses/13672015...</td>\n      <td>PEDOFILIA</td>\n      <td>jjkthange</td>\n    </tr>\n    <tr>\n      <th>4</th>\n      <td>315089002</td>\n      <td>2021-03-02 11:30:27</td>\n      <td>Dra. Deusa em isolamento social, A Menina do L...</td>\n      <td>500</td>\n      <td>neutro</td>\n      <td>@nirgellep @Zan4rkZNK @avdkdvra Pedofilia é an...</td>\n      <td>http://twitter.com/FemeaLetrada/statuses/13667...</td>\n      <td>PEDOFILIA</td>\n      <td>FemeaLetrada</td>\n    </tr>\n  </tbody>\n</table>\n</div>"
     },
     "metadata": {},
     "execution_count": 11
    }
   ],
   "source": [
    "df.head()"
   ]
  },
  {
   "source": [
    "Gerando amostra"
   ],
   "cell_type": "markdown",
   "metadata": {}
  },
  {
   "cell_type": "code",
   "execution_count": 12,
   "metadata": {},
   "outputs": [
    {
     "output_type": "execute_result",
     "data": {
      "text/plain": [
       "(10000, 9)"
      ]
     },
     "metadata": {},
     "execution_count": 12
    }
   ],
   "source": [
    "df = df.sample(10000)\n",
    "df.shape"
   ]
  },
  {
   "source": [
    "Processamento dos dados para extração de features"
   ],
   "cell_type": "markdown",
   "metadata": {}
  },
  {
   "cell_type": "code",
   "execution_count": 13,
   "metadata": {},
   "outputs": [],
   "source": [
    "df['rt'] = df['tweet'].apply(lambda x: twitter_p.getRTScreenName(tweet_text=x))"
   ]
  },
  {
   "source": [
    "Processando dados para ingestão"
   ],
   "cell_type": "markdown",
   "metadata": {}
  },
  {
   "cell_type": "code",
   "execution_count": 34,
   "metadata": {},
   "outputs": [
    {
     "output_type": "execute_result",
     "data": {
      "text/plain": [
       "(11002, 2, 10)"
      ]
     },
     "metadata": {},
     "execution_count": 34
    }
   ],
   "source": [
    "## Lista de usuários (screen_name e rt)\n",
    "users = df['screen_name'].unique().tolist() + [u for u in df['rt'].unique().tolist() if u != '']\n",
    "users = set(users)\n",
    "pd.DataFrame(users, columns=['user']).to_csv('data/neo4j/users.csv', encoding='utf8', index=False)\n",
    "\n",
    "## Lista de sentimentos\n",
    "sentiments = df['sentiment'].unique().tolist()\n",
    "pd.DataFrame(sentiments, columns=['sentiment']).to_csv('data/neo4j/sentiments.csv', encoding='utf8', index=False)\n",
    "\n",
    "## Lista de tópicos\n",
    "topics = df['topic'].unique().tolist()\n",
    "pd.DataFrame(topics, columns=['topic']).to_csv('data/neo4j/topics.csv', encoding='utf8', index=False)\n",
    "\n",
    "len(users), len(sentiments), len(topics)"
   ]
  },
  {
   "cell_type": "code",
   "execution_count": 35,
   "metadata": {},
   "outputs": [],
   "source": [
    "## Lista de Tweets\n",
    "## Relacionamento: Tweet -> Sentimento\n",
    "## Relacionamento: Tweet -> Tópico\n",
    "## Relacionamento: User -> POST -> Tweet\n",
    "## Relcionamento: User -> RETWEET -> Tweet"
   ]
  },
  {
   "cell_type": "code",
   "execution_count": null,
   "metadata": {},
   "outputs": [],
   "source": []
  },
  {
   "cell_type": "code",
   "execution_count": null,
   "metadata": {},
   "outputs": [],
   "source": []
  },
  {
   "source": [
    "Ingestão Neo4j"
   ],
   "cell_type": "markdown",
   "metadata": {}
  },
  {
   "cell_type": "code",
   "execution_count": 7,
   "metadata": {},
   "outputs": [],
   "source": [
    "uri = \"bolt://54.172.32.171:7687\"\n",
    "user = \"neo4j\"\n",
    "password = \"death-swimmers-flash\"\n",
    "\n",
    "graph = Graph(uri, user=user, password=password)"
   ]
  },
  {
   "source": [
    "Nós\n",
    "- Tweet: id (post_id), date (post_date), text (tweet), url (tweet_url)\n",
    "- User: username (screen_name ou rt)\n",
    "- Sentiment: positivo, negativo, neutro\n",
    "- Topic\n",
    "\n",
    "Relacionamentos\n",
    "- POST: User -> POST - Tweet\n",
    "- RETWEET: User -> RETWEET -Tweet\n",
    "- SENTIMENT: Tweet-> SENTIMENT - Sentiment\n",
    "- TALK: Tweet -> TALK - Topic"
   ],
   "cell_type": "markdown",
   "metadata": {}
  },
  {
   "cell_type": "code",
   "execution_count": null,
   "metadata": {},
   "outputs": [],
   "source": []
  },
  {
   "source": [
    "Criando constraints"
   ],
   "cell_type": "markdown",
   "metadata": {}
  },
  {
   "cell_type": "code",
   "execution_count": 67,
   "metadata": {},
   "outputs": [
    {
     "output_type": "execute_result",
     "data": {
      "text/plain": [
       "(No data)"
      ],
      "text/html": "(No data)"
     },
     "metadata": {},
     "execution_count": 67
    }
   ],
   "source": [
    "graph.run('CREATE CONSTRAINT ON (t:Tweet) ASSERT t.id IS UNIQUE')\n",
    "graph.run('CREATE CONSTRAINT ON (u:User) ASSERT u.username IS UNIQUE')\n",
    "graph.run('CREATE CONSTRAINT ON (s:Sentiment) ASSERT s.name IS UNIQUE')\n",
    "graph.run('CREATE CONSTRAINT ON (t:Topic) ASSERT t.name is UNIQUE')"
   ]
  },
  {
   "source": [
    "Processamento dos dados para ingestão"
   ],
   "cell_type": "markdown",
   "metadata": {}
  },
  {
   "cell_type": "code",
   "execution_count": 68,
   "metadata": {},
   "outputs": [
    {
     "output_type": "execute_result",
     "data": {
      "text/plain": [
       "(10958, 2, 12)"
      ]
     },
     "metadata": {},
     "execution_count": 68
    }
   ],
   "source": []
  },
  {
   "cell_type": "code",
   "execution_count": 69,
   "metadata": {},
   "outputs": [
    {
     "output_type": "stream",
     "name": "stderr",
     "text": [
      "100%|██████████| 10958/10958 [1:37:48<00:00,  1.87it/s]\n"
     ]
    }
   ],
   "source": [
    "#Criando Nós Usuários\n",
    "for u in tqdm(users):\n",
    "    user = Node('User', id=u, name=u)\n",
    "    graph.create(user)"
   ]
  },
  {
   "cell_type": "code",
   "execution_count": 56,
   "metadata": {},
   "outputs": [
    {
     "output_type": "execute_result",
     "data": {
      "text/plain": [
       "(10000, 5)"
      ]
     },
     "metadata": {},
     "execution_count": 56
    }
   ],
   "source": [
    "df[['screen_name', 'tweet', 'rt', 'sentiment', 'topic']].shape"
   ]
  },
  {
   "cell_type": "code",
   "execution_count": 29,
   "metadata": {},
   "outputs": [],
   "source": [
    "for i,r in df.head(2).iterrows():\n",
    "    try:\n",
    "        tweet = Node('Tweet', id=r['post_id'], text=r['tweet']) #'post_datetime', 'tweet_url'\n",
    "        graph.create(tweet)\n",
    "    except Exception as ex:\n",
    "        #Tratar erros\n",
    "        pass\n",
    "\n",
    "    \n",
    "\n",
    "\n",
    "    \n",
    "#a = Node(\"Person\", name=\"Alice\", age=33)\n",
    "#b = Node(\"Person\", name=\"Bob\", age=44)\n",
    "#c = Node(\"Person\", name=\"Matheus\", age=44)\n",
    "#KNOWS = Relationship.type(\"KNOWS\")\n",
    "#graph.merge(KNOWS(c, a), \"Person\", \"name\")\n",
    "#print(df.columns)\n",
    "#df['topic'].value_counts()"
   ]
  },
  {
   "cell_type": "code",
   "execution_count": 15,
   "metadata": {},
   "outputs": [
    {
     "output_type": "execute_result",
     "data": {
      "text/plain": [
       "         post_id        post_datetime             author  followers sentiment  \\\n",
       "46214  311697042  2021-01-20 17:32:53         Telma Reis        204    neutro   \n",
       "20158  315742989  2021-03-06 21:43:57               mad.         64    neutro   \n",
       "19666  313403940  2021-02-08 07:35:36  Fabiano Silva 🇧🇷🥛        109    neutro   \n",
       "20281  317418308  2021-03-20 15:04:06              𝚖𝚘𝚘𝚗⁷       1089    neutro   \n",
       "12723  311749929  2021-01-21 14:04:20            Ltannus        698    neutro   \n",
       "\n",
       "                                                   tweet  \\\n",
       "46214  RT @Cristia12114557: Biden começou muito bem.....   \n",
       "20158  caras eu vo pra terapeuta pq meu tio me assedi...   \n",
       "19666  RT @Maxcardosobr: Como editor do portal Terça ...   \n",
       "20281  RT @alinadurso: só se importam com mulheres se...   \n",
       "12723  RT @bernardokuster2: Twitter bloqueia conta da...   \n",
       "\n",
       "                                               tweet_url            topic  \\\n",
       "46214  http://twitter.com/telminhareis/statuses/13519...        PEDOFILIA   \n",
       "20158  http://twitter.com/95kthdior/statuses/13683617...        PEDOFILIA   \n",
       "19666  http://twitter.com/bihannotop/statuses/1358726...        PEDOFILIA   \n",
       "20281  http://twitter.com/mjklight/statuses/137333455...        PEDOFILIA   \n",
       "12723  http://twitter.com/ltannus/statuses/1352301010...  GENERO INFANTIL   \n",
       "\n",
       "        screen_name                rt  \n",
       "46214  telminhareis  @Cristia12114557  \n",
       "20158     95kthdior                    \n",
       "19666    bihannotop     @Maxcardosobr  \n",
       "20281      mjklight       @alinadurso  \n",
       "12723       ltannus  @bernardokuster2  "
      ],
      "text/html": "<div>\n<style scoped>\n    .dataframe tbody tr th:only-of-type {\n        vertical-align: middle;\n    }\n\n    .dataframe tbody tr th {\n        vertical-align: top;\n    }\n\n    .dataframe thead th {\n        text-align: right;\n    }\n</style>\n<table border=\"1\" class=\"dataframe\">\n  <thead>\n    <tr style=\"text-align: right;\">\n      <th></th>\n      <th>post_id</th>\n      <th>post_datetime</th>\n      <th>author</th>\n      <th>followers</th>\n      <th>sentiment</th>\n      <th>tweet</th>\n      <th>tweet_url</th>\n      <th>topic</th>\n      <th>screen_name</th>\n      <th>rt</th>\n    </tr>\n  </thead>\n  <tbody>\n    <tr>\n      <th>46214</th>\n      <td>311697042</td>\n      <td>2021-01-20 17:32:53</td>\n      <td>Telma Reis</td>\n      <td>204</td>\n      <td>neutro</td>\n      <td>RT @Cristia12114557: Biden começou muito bem.....</td>\n      <td>http://twitter.com/telminhareis/statuses/13519...</td>\n      <td>PEDOFILIA</td>\n      <td>telminhareis</td>\n      <td>@Cristia12114557</td>\n    </tr>\n    <tr>\n      <th>20158</th>\n      <td>315742989</td>\n      <td>2021-03-06 21:43:57</td>\n      <td>mad.</td>\n      <td>64</td>\n      <td>neutro</td>\n      <td>caras eu vo pra terapeuta pq meu tio me assedi...</td>\n      <td>http://twitter.com/95kthdior/statuses/13683617...</td>\n      <td>PEDOFILIA</td>\n      <td>95kthdior</td>\n      <td></td>\n    </tr>\n    <tr>\n      <th>19666</th>\n      <td>313403940</td>\n      <td>2021-02-08 07:35:36</td>\n      <td>Fabiano Silva 🇧🇷🥛</td>\n      <td>109</td>\n      <td>neutro</td>\n      <td>RT @Maxcardosobr: Como editor do portal Terça ...</td>\n      <td>http://twitter.com/bihannotop/statuses/1358726...</td>\n      <td>PEDOFILIA</td>\n      <td>bihannotop</td>\n      <td>@Maxcardosobr</td>\n    </tr>\n    <tr>\n      <th>20281</th>\n      <td>317418308</td>\n      <td>2021-03-20 15:04:06</td>\n      <td>𝚖𝚘𝚘𝚗⁷</td>\n      <td>1089</td>\n      <td>neutro</td>\n      <td>RT @alinadurso: só se importam com mulheres se...</td>\n      <td>http://twitter.com/mjklight/statuses/137333455...</td>\n      <td>PEDOFILIA</td>\n      <td>mjklight</td>\n      <td>@alinadurso</td>\n    </tr>\n    <tr>\n      <th>12723</th>\n      <td>311749929</td>\n      <td>2021-01-21 14:04:20</td>\n      <td>Ltannus</td>\n      <td>698</td>\n      <td>neutro</td>\n      <td>RT @bernardokuster2: Twitter bloqueia conta da...</td>\n      <td>http://twitter.com/ltannus/statuses/1352301010...</td>\n      <td>GENERO INFANTIL</td>\n      <td>ltannus</td>\n      <td>@bernardokuster2</td>\n    </tr>\n  </tbody>\n</table>\n</div>"
     },
     "metadata": {},
     "execution_count": 15
    }
   ],
   "source": [
    "df.head()"
   ]
  }
 ]
}